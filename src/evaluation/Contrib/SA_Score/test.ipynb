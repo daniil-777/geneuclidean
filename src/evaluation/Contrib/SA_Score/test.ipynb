{
 "cells": [
  {
   "cell_type": "code",
   "execution_count": 1,
   "metadata": {
    "tags": []
   },
   "outputs": [
    {
     "output_type": "stream",
     "name": "stdout",
     "text": "/Users/daniil/ETH/research_drugs/Contrib/SA_Score/sascorer.py\n"
    }
   ],
   "source": [
    "from rdkit import RDConfig\n",
    "from rdkit import Chem\n",
    "import unittest, os.path\n",
    "import sascorer\n",
    "print(sascorer.__file__)"
   ]
  },
  {
   "cell_type": "code",
   "execution_count": 5,
   "metadata": {},
   "outputs": [],
   "source": [
    "smi = 'Cc1c(C(=O)NCCO)[n+](=O)c2ccccc2n1[O-]'\n",
    "m = Chem.MolFromSmiles(smi)\n",
    "val = sascorer.calculateScore(m)"
   ]
  },
  {
   "cell_type": "code",
   "execution_count": 6,
   "metadata": {},
   "outputs": [
    {
     "output_type": "execute_result",
     "data": {
      "text/plain": "3.1658708370156416"
     },
     "metadata": {},
     "execution_count": 6
    }
   ],
   "source": [
    "val\n"
   ]
  },
  {
   "cell_type": "code",
   "execution_count": null,
   "metadata": {},
   "outputs": [],
   "source": []
  }
 ],
 "metadata": {
  "language_info": {
   "codemirror_mode": {
    "name": "ipython",
    "version": 3
   },
   "file_extension": ".py",
   "mimetype": "text/x-python",
   "name": "python",
   "nbconvert_exporter": "python",
   "pygments_lexer": "ipython3",
   "version": "3.7.6-final"
  },
  "orig_nbformat": 2,
  "kernelspec": {
   "name": "python37664bitmyrdkitenvconda3e00c6585f4143b49850464b60d8a0f7",
   "display_name": "Python 3.7.6 64-bit ('my-rdkit-env': conda)"
  }
 },
 "nbformat": 4,
 "nbformat_minor": 2
}